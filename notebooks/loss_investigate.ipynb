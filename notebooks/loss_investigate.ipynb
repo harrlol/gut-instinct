{
 "cells": [
  {
   "cell_type": "code",
   "execution_count": null,
   "id": "6c931e6d",
   "metadata": {},
   "outputs": [],
   "source": [
    "import os\n",
    "from os import path\n",
    "from config import DATA_PATH\n",
    "import pandas as pd\n",
    "import numpy as np\n",
    "import spatialdata as sd\n",
    "import os.path as osp\n",
    "from skimage.measure import regionprops\n",
    "\n",
    "from data import patch_john, patch_harry"
   ]
  },
  {
   "cell_type": "code",
   "execution_count": null,
   "id": "6529848e",
   "metadata": {},
   "outputs": [],
   "source": [
    "sdata = sd.read_zarr(osp.join(DATA_PATH, \"UC6_I.zarr/UC6_I.zarr\"))\n"
   ]
  }
 ],
 "metadata": {
  "kernelspec": {
   "display_name": "gutinstinct",
   "language": "python",
   "name": "python3"
  },
  "language_info": {
   "name": "python",
   "version": "3.11.11"
  }
 },
 "nbformat": 4,
 "nbformat_minor": 5
}
