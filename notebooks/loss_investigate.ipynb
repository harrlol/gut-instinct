{
 "cells": [
  {
   "cell_type": "code",
   "execution_count": null,
   "id": "ddb93f51",
   "metadata": {},
   "outputs": [],
   "source": [
    "import os\n",
    "import pandas as pd\n",
    "import numpy as np\n",
    "import os.path as osp\n",
    "import spatialdata as sd\n",
    "from skimage.measure import regionprops\n",
    "import torch\n",
    "from torch.utils.data import Dataset, DataLoader, TensorDataset\n",
    "import timm\n",
    "from timm.data import resolve_data_config\n",
    "from timm.data.transforms_factory import create_transform\n",
    "\n",
    "from config import DATA_PATH\n",
    "from data import patch_john, patch_harry\n",
    "from models import utils as model_utils\n",
    "from eval import utils as eval_utils\n",
    "\n",
    "# hugginface\n",
    "from dotenv import load_dotenv\n",
    "from huggingface_hub import login\n",
    "load_dotenv(dotenv_path=os.path.expanduser('~/hl/.gutinstinct.env'))\n",
    "api_token = os.getenv(\"API_TOKEN\")\n",
    "login(token=api_token)"
   ]
  },
  {
   "cell_type": "code",
   "execution_count": null,
   "id": "4e76d450",
   "metadata": {},
   "outputs": [],
   "source": [
    "zarr_path = osp.join(os.path.expanduser(DATA_PATH), \"UC6_I.zarr/UC6_I.zarr\")\n",
    "sdata = sd.read_zarr(zarr_path)"
   ]
  },
  {
   "cell_type": "code",
   "execution_count": null,
   "id": "1f756982",
   "metadata": {},
   "outputs": [],
   "source": [
    "dataset_patch_train, dataset_patch_val, dataset_patch_test = patch_harry.get_patches(sdata)"
   ]
  },
  {
   "cell_type": "code",
   "execution_count": null,
   "id": "36cc8966",
   "metadata": {},
   "outputs": [],
   "source": [
    "dataset_expression_train = model_utils.get_expression(sdata, dataset_patch_train)\n",
    "dataset_expression_val = model_utils.get_expression(sdata, dataset_patch_val)\n",
    "dataset_expression_test = model_utils.get_expression(sdata, dataset_patch_test)"
   ]
  },
  {
   "cell_type": "code",
   "execution_count": null,
   "id": "5a2aab02",
   "metadata": {},
   "outputs": [],
   "source": [
    "train_loader = DataLoader(dataset_patch_train, batch_size=32, shuffle=True)\n",
    "val_loader = DataLoader(dataset_patch_val, batch_size=32, shuffle=True)\n",
    "test_loader = DataLoader(dataset_patch_test, batch_size=32, shuffle=True)"
   ]
  },
  {
   "cell_type": "code",
   "execution_count": null,
   "id": "e16770c0",
   "metadata": {},
   "outputs": [],
   "source": [
    "## instantiate a uni model\n",
    "timm_kwargs = {\n",
    "   'img_size': 224,\n",
    "   'patch_size': 32,\n",
    "   'depth': 24,\n",
    "   'num_heads': 24,\n",
    "   'init_values': 1e-5,\n",
    "   'embed_dim': 1536,\n",
    "   'mlp_ratio': 2.66667*2,\n",
    "   'num_classes': 0,\n",
    "   'no_embed_class': True,\n",
    "   'mlp_layer': timm.layers.SwiGLUPacked,\n",
    "   'act_layer': torch.nn.SiLU,\n",
    "   'reg_tokens': 8,\n",
    "   'dynamic_img_size': True\n",
    "  }\n",
    "model_uni = timm.create_model(\"hf-hub:MahmoodLab/UNI2-h\", pretrained=True, **timm_kwargs)\n",
    "model_uni = model_uni.to('cuda')\n",
    "transform = create_transform(**resolve_data_config(model_uni.pretrained_cfg, model=model_uni))\n",
    "model_uni.eval()"
   ]
  },
  {
   "cell_type": "code",
   "execution_count": null,
   "id": "65253897",
   "metadata": {},
   "outputs": [],
   "source": [
    "train_embeddings, train_cell_ids = model_utils.extract_features(train_loader, model_uni)\n",
    "val_embeddings, val_cell_ids = model_utils.extract_features(val_loader, model_uni)\n",
    "test_embeddings, test_cell_ids = model_utils.extract_features(test_loader, model_uni)"
   ]
  },
  {
   "cell_type": "code",
   "execution_count": null,
   "id": "3c6350fd",
   "metadata": {},
   "outputs": [],
   "source": [
    "train_dataset = TensorDataset(\n",
    "    torch.tensor(train_embeddings, dtype=torch.float32),\n",
    "    torch.tensor(dataset_expression_train, dtype=torch.float32)\n",
    ")\n",
    "\n",
    "val_dataset = TensorDataset(\n",
    "    torch.tensor(val_embeddings, dtype=torch.float32),\n",
    "    torch.tensor(dataset_expression_val, dtype=torch.float32)\n",
    ")\n",
    "\n",
    "test_dataset = TensorDataset(\n",
    "    torch.tensor(test_embeddings, dtype=torch.float32),\n",
    "    torch.tensor(dataset_expression_test, dtype=torch.float32)\n",
    ")\n",
    "\n",
    "# create dataloader\n",
    "train_loader = DataLoader(train_dataset, batch_size=32, shuffle=False)\n",
    "val_loader = DataLoader(val_dataset, batch_size=32, shuffle=False)\n",
    "test_loader = DataLoader(test_dataset, batch_size=32, shuffle=False)"
   ]
  }
 ],
 "metadata": {
  "kernelspec": {
   "display_name": "gutinstinct",
   "language": "python",
   "name": "python3"
  },
  "language_info": {
   "name": "python",
   "version": "3.11.11"
  }
 },
 "nbformat": 4,
 "nbformat_minor": 5
}
