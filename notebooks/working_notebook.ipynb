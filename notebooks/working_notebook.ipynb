{
 "cells": [
  {
   "cell_type": "code",
   "execution_count": 47,
   "id": "ddb93f51",
   "metadata": {},
   "outputs": [],
   "source": [
    "import os\n",
    "import pandas as pd\n",
    "import numpy as np\n",
    "import matplotlib.pyplot as plt\n",
    "import os.path as osp\n",
    "import spatialdata as sd\n",
    "from skimage.measure import regionprops\n",
    "import torch\n",
    "from torch.utils.data import Dataset, DataLoader, TensorDataset\n",
    "from sklearn.model_selection import train_test_split\n",
    "import timm\n",
    "from timm.data import resolve_data_config\n",
    "from timm.data.transforms_factory import create_transform\n",
    "import torch.optim as optim\n",
    "import torch.nn as nn\n",
    "from geomloss import SamplesLoss\n",
    "from sklearn.metrics import r2_score\n",
    "import torch.nn.functional as F\n",
    "from torchvision import transforms\n",
    "from scipy.stats import pearsonr\n",
    "import datetime\n",
    "\n",
    "from config import DATA_PATH\n",
    "from data import patch_process\n",
    "from models import utils as model_utils\n",
    "from eval import utils as eval_utils\n",
    "\n",
    "# hugginface\n",
    "from dotenv import load_dotenv\n",
    "from huggingface_hub import login\n",
    "load_dotenv(dotenv_path=os.path.expanduser('~/hl/.gutinstinct.env'))\n",
    "api_token = os.getenv(\"API_TOKEN\")\n",
    "login(token=api_token)\n",
    "\n",
    "SEED = 209"
   ]
  },
  {
   "cell_type": "code",
   "execution_count": 2,
   "id": "4e76d450",
   "metadata": {},
   "outputs": [
    {
     "name": "stderr",
     "output_type": "stream",
     "text": [
      "/home/b-evelyntong/miniconda3/envs/gutinstinct/lib/python3.11/site-packages/zarr/creation.py:610: UserWarning: ignoring keyword argument 'read_only'\n",
      "  compressor, fill_value = _kwargs_compat(compressor, fill_value, kwargs)\n"
     ]
    }
   ],
   "source": [
    "zarr_path = osp.join(os.path.expanduser(DATA_PATH), \"UC6_I.zarr/UC6_I.zarr\")\n",
    "sdata = sd.read_zarr(zarr_path)"
   ]
  },
  {
   "cell_type": "code",
   "execution_count": null,
   "id": "e16770c0",
   "metadata": {},
   "outputs": [],
   "source": [
    "## instantiate a uni model\n",
    "timm_kwargs = {\n",
    "   'img_size': 224,\n",
    "   'patch_size': 32,\n",
    "   'depth': 24,\n",
    "   'num_heads': 24,\n",
    "   'init_values': 1e-5,\n",
    "   'embed_dim': 1536,\n",
    "   'mlp_ratio': 2.66667*2,\n",
    "   'num_classes': 0,\n",
    "   'no_embed_class': True,\n",
    "   'mlp_layer': timm.layers.SwiGLUPacked,\n",
    "   'act_layer': torch.nn.SiLU,\n",
    "   'reg_tokens': 8,\n",
    "   'dynamic_img_size': True\n",
    "  }\n",
    "model_uni = timm.create_model(\"hf-hub:MahmoodLab/UNI2-h\", pretrained=True, **timm_kwargs)\n",
    "model_uni = model_uni.to('cuda')\n",
    "transform = create_transform(**resolve_data_config(model_uni.pretrained_cfg, model=model_uni))\n",
    "model_uni.eval()"
   ]
  },
  {
   "cell_type": "code",
   "execution_count": 5,
   "id": "ccf0865e",
   "metadata": {},
   "outputs": [],
   "source": [
    "timestamp = datetime.datetime.now().strftime(\"%Y%m%d_%H%M%S\")\n",
    "log_file = f\"log_{timestamp}.txt\"\n",
    "patch_id_to_cell_id = patch_process.get_cell_ids_in_patch(sdata, patch_size=200, log_file=log_file)\n",
    "patch_id_to_pil = patch_process.match_patch_id_to_PIL(sdata, patch_id_to_cell_id, patch_size=200, log_file=log_file)\n",
    "patch_id_to_cell_id, patch_id_to_pil, patch_id_to_expr = patch_process.match_patch_id_to_expr(sdata, patch_id_to_cell_id, patch_id_to_pil, log_file=log_file)\n",
    "patch_process.plots_n_visualizations(sdata, patch_id_to_cell_id, patch_id_to_pil, patch_id_to_expr)"
   ]
  },
  {
   "cell_type": "code",
   "execution_count": 17,
   "id": "a38eebc1",
   "metadata": {},
   "outputs": [],
   "source": [
    "# process images, pair with expression vectors\n",
    "transform = transforms.ToTensor()\n",
    "\n",
    "# split data into train and validation sets\n",
    "patch_list = list(patch_id_to_pil.values())\n",
    "expr_list = list(patch_id_to_expr.values())\n",
    "patch_train, patch_val, expr_train, expr_val = train_test_split(\n",
    "    patch_list, expr_list, test_size=0.2, random_state=SEED, shuffle=True\n",
    ")\n",
    "\n",
    "# transform pil to tensor and normalize /255, tensorize expression vectors\n",
    "patch_tensors_train = [transform(patch) for patch in patch_train]\n",
    "expr_tensors_train = [torch.tensor(e, dtype=torch.float32) for e in expr_train]\n",
    "patch_tensors_val = [transform(patch) for patch in patch_val]\n",
    "expr_tensors_val = [torch.tensor(e, dtype=torch.float32) for e in expr_val]\n",
    "\n",
    "# assemble\n",
    "train_dataset = TensorDataset(torch.stack(patch_tensors_train), torch.stack(expr_tensors_train))\n",
    "val_dataset = TensorDataset(torch.stack(patch_tensors_val), torch.stack(expr_tensors_val))\n",
    "\n",
    "# create dataloaders\n",
    "train_loader = DataLoader(train_dataset, batch_size=32, shuffle=False)\n",
    "val_loader = DataLoader(val_dataset, batch_size=32, shuffle=False)\n"
   ]
  },
  {
   "cell_type": "code",
   "execution_count": 18,
   "id": "a2810480",
   "metadata": {},
   "outputs": [],
   "source": [
    "# first try baseline, using cnn + linear regression\n",
    "# define model\n",
    "class CNNPlusLinear(nn.Module):\n",
    "    def __init__(self):\n",
    "        super().__init__()\n",
    "        self.features = nn.Sequential(\n",
    "            nn.Conv2d(3, 16, kernel_size=3, stride=1, padding=1),\n",
    "            nn.ReLU(),\n",
    "            nn.MaxPool2d(kernel_size=2, stride=2),\n",
    "            nn.Conv2d(16, 32, kernel_size=3, stride=1, padding=1),\n",
    "            nn.ReLU(),\n",
    "            nn.MaxPool2d(kernel_size=2, stride=2),\n",
    "            nn.Conv2d(32, 64, kernel_size=5, stride=2, padding=1),\n",
    "            nn.ReLU(),\n",
    "            nn.MaxPool2d(kernel_size=2, stride=2),\n",
    "        )\n",
    "        self.encoder = nn.Sequential(\n",
    "            nn.AdaptiveAvgPool2d((1, 1)), \n",
    "            nn.Flatten(),   \n",
    "            nn.Linear(64, 128), \n",
    "            nn.ReLU()\n",
    "        )\n",
    "        self.linear_head = nn.Linear(128, 460)\n",
    "    \n",
    "    def forward(self, x):\n",
    "        x = self.features(x)\n",
    "        x = self.encoder(x)\n",
    "        x = self.linear_head(x)\n",
    "        return x"
   ]
  },
  {
   "cell_type": "code",
   "execution_count": null,
   "id": "5796da0c",
   "metadata": {},
   "outputs": [
    {
     "name": "stdout",
     "output_type": "stream",
     "text": [
      "Epoch 1/50, Train Loss: 0.0331\n",
      "Epoch 2/50, Train Loss: 0.0285\n",
      "Epoch 3/50, Train Loss: 0.0257\n",
      "Epoch 4/50, Train Loss: 0.0246\n",
      "Epoch 5/50, Train Loss: 0.0243\n",
      "Epoch 6/50, Train Loss: 0.0241\n",
      "Epoch 7/50, Train Loss: 0.0240\n",
      "Epoch 8/50, Train Loss: 0.0238\n",
      "Epoch 9/50, Train Loss: 0.0235\n",
      "Epoch 10/50, Train Loss: 0.0233\n",
      "Epoch 11/50, Train Loss: 0.0231\n",
      "Epoch 12/50, Train Loss: 0.0229\n",
      "Epoch 13/50, Train Loss: 0.0227\n",
      "Epoch 14/50, Train Loss: 0.0227\n",
      "Epoch 15/50, Train Loss: 0.0225\n",
      "Epoch 16/50, Train Loss: 0.0225\n",
      "Epoch 17/50, Train Loss: 0.0223\n",
      "Epoch 18/50, Train Loss: 0.0223\n",
      "Epoch 19/50, Train Loss: 0.0221\n",
      "Epoch 20/50, Train Loss: 0.0221\n",
      "Epoch 21/50, Train Loss: 0.0219\n",
      "Epoch 22/50, Train Loss: 0.0218\n",
      "Epoch 23/50, Train Loss: 0.0217\n",
      "Epoch 24/50, Train Loss: 0.0215\n",
      "Epoch 25/50, Train Loss: 0.0215\n",
      "Epoch 26/50, Train Loss: 0.0213\n",
      "Epoch 27/50, Train Loss: 0.0212\n",
      "Epoch 28/50, Train Loss: 0.0210\n",
      "Epoch 29/50, Train Loss: 0.0209\n",
      "Epoch 30/50, Train Loss: 0.0208\n",
      "Epoch 31/50, Train Loss: 0.0206\n",
      "Epoch 32/50, Train Loss: 0.0206\n",
      "Epoch 33/50, Train Loss: 0.0204\n",
      "Epoch 34/50, Train Loss: 0.0204\n",
      "Epoch 35/50, Train Loss: 0.0202\n",
      "Epoch 36/50, Train Loss: 0.0202\n",
      "Epoch 37/50, Train Loss: 0.0201\n",
      "Epoch 38/50, Train Loss: 0.0201\n",
      "Epoch 39/50, Train Loss: 0.0200\n",
      "Epoch 40/50, Train Loss: 0.0199\n",
      "Epoch 41/50, Train Loss: 0.0198\n",
      "Epoch 42/50, Train Loss: 0.0198\n",
      "Epoch 43/50, Train Loss: 0.0197\n",
      "Epoch 44/50, Train Loss: 0.0196\n",
      "Epoch 45/50, Train Loss: 0.0196\n",
      "Epoch 46/50, Train Loss: 0.0195\n",
      "Epoch 47/50, Train Loss: 0.0195\n",
      "Epoch 48/50, Train Loss: 0.0194\n",
      "Epoch 49/50, Train Loss: 0.0193\n",
      "Epoch 50/50, Train Loss: 0.0192\n",
      "Validation Loss: 0.0209\n"
     ]
    },
    {
     "data": {
      "image/png": "[encoded data removed]",
      "text/plain": [
       "<Figure size 640x480 with 1 Axes>"
      ]
     },
     "metadata": {},
     "output_type": "display_data"
    }
   ],
   "source": [
    "# train the model\n",
    "model = CNNPlusLinear()\n",
    "model.to('cuda')\n",
    "\n",
    "optimizer = optim.Adam(model.parameters(), lr=1e-3)\n",
    "criterion = nn.MSELoss()\n",
    "\n",
    "train_losses = []\n",
    "for epoch in range(50):\n",
    "    model.train()\n",
    "    running_train_loss = 0.0\n",
    "    for x_batch, y_batch in train_loader:\n",
    "        x_batch, y_batch = x_batch.to('cuda'), y_batch.to('cuda')\n",
    "        optimizer.zero_grad()\n",
    "        y_pred = model(x_batch)\n",
    "        loss = criterion(y_pred, y_batch)\n",
    "        loss.backward()\n",
    "        optimizer.step()\n",
    "        running_train_loss += loss.item()\n",
    "\n",
    "    train_losses.append(running_train_loss / len(train_loader))\n",
    "    print(f\"Epoch {epoch+1}/{50}, Train Loss: {running_train_loss / len(train_loader):.4f}\")\n",
    "\n",
    "\n",
    "# plot training loss\n",
    "plt.plot(train_losses)\n",
    "plt.title(\"Training Loss\")\n",
    "plt.xlabel(\"Epoch\")\n",
    "plt.ylabel(\"Loss\")\n",
    "plt.savefig(\"training_loss.png\")\n",
    "plt.show()"
   ]
  },
  {
   "cell_type": "code",
   "execution_count": 48,
   "id": "abe3552a",
   "metadata": {},
   "outputs": [
    {
     "name": "stdout",
     "output_type": "stream",
     "text": [
      "Validation Loss: 0.0209\n"
     ]
    }
   ],
   "source": [
    "# evaluate the model\n",
    "model.eval()\n",
    "running_val_loss = 0.0\n",
    "y_preds = []\n",
    "y_trues = []\n",
    "with torch.no_grad():\n",
    "    for x_batch, y_batch in val_loader:\n",
    "        x_batch, y_batch = x_batch.to('cuda'), y_batch.to('cuda')\n",
    "        y_pred = model(x_batch)\n",
    "        loss = criterion(y_pred, y_batch)\n",
    "        running_val_loss += loss.item()\n",
    "        y_preds.append(y_pred.cpu().numpy())\n",
    "        y_trues.append(y_batch.cpu().numpy())\n",
    "\n",
    "    val_loss = running_val_loss / len(val_loader)\n",
    "    print(f\"Validation Loss: {val_loss:.4f}\")\n",
    "\n"
   ]
  },
  {
   "cell_type": "code",
   "execution_count": 49,
   "id": "b7bf258c",
   "metadata": {},
   "outputs": [],
   "source": [
    "y_preds = np.concatenate(y_preds, axis=0)\n",
    "y_trues = np.concatenate(y_trues, axis=0)"
   ]
  },
  {
   "cell_type": "code",
   "execution_count": 50,
   "id": "c59f80cd",
   "metadata": {},
   "outputs": [],
   "source": [
    "r2_per_gene = [r2_score(y_trues[:, i], y_preds[:, i]) for i in range(y_trues.shape[1])]\n",
    "r2_per_samples = [r2_score(y_trues[i], y_preds[i]) for i in range(y_trues.shape[0])]\n",
    "pearson_per_sample = [pearsonr(y_trues[i, :], y_preds[i, :])[0] for i in range(y_trues.shape[0])]"
   ]
  },
  {
   "cell_type": "code",
   "execution_count": 51,
   "id": "43f9ff2d",
   "metadata": {},
   "outputs": [
    {
     "name": "stdout",
     "output_type": "stream",
     "text": [
      "460\n",
      "809\n",
      "809\n"
     ]
    }
   ],
   "source": [
    "print(len(r2_per_gene))\n",
    "print(len(r2_per_samples))\n",
    "print(len(pearson_per_sample))"
   ]
  },
  {
   "cell_type": "code",
   "execution_count": 52,
   "id": "1a2ffcc1",
   "metadata": {},
   "outputs": [
    {
     "name": "stdout",
     "output_type": "stream",
     "text": [
      "Average R2 per gene: 0.0697\n",
      "Average R2 per sample: 0.5606\n",
      "Average Pearson correlation per sample: 0.7532\n"
     ]
    }
   ],
   "source": [
    "r2_per_gene_avg = np.mean(r2_per_gene)\n",
    "r2_per_samples_avg = np.mean(r2_per_samples)\n",
    "pearson_per_sample_avg = np.mean(pearson_per_sample)\n",
    "print(f\"Average R2 per gene: {r2_per_gene_avg:.4f}\")\n",
    "print(f\"Average R2 per sample: {r2_per_samples_avg:.4f}\")\n",
    "print(f\"Average Pearson correlation per sample: {pearson_per_sample_avg:.4f}\")"
   ]
  },
  {
   "cell_type": "markdown",
   "id": "dfcf0abf",
   "metadata": {},
   "source": [
    "## Observations\n",
    "- using a distributional loss in addition to the mse loss does not help the model learn\n",
    "- train loss plateaus exactly at val loss, the model is not able to overfit\n",
    "- R2 indicates that the model is worse than predicting the average\n",
    "- l1 + only wasserstein saw model consistently minimizing loss, but val metrics still bad"
   ]
  },
  {
   "cell_type": "markdown",
   "id": "cd57cf0b",
   "metadata": {},
   "source": [
    "Questions to ask:\n",
    "what loss to use?\n",
    "is our architecture complete?\n",
    "any addition we should include?\n",
    "\n",
    "\n",
    "Notes:\n",
    "transform from github but didn't use  (create transform function)\n"
   ]
  }
 ],
 "metadata": {
  "kernelspec": {
   "display_name": "gutinstinct",
   "language": "python",
   "name": "python3"
  },
  "language_info": {
   "codemirror_mode": {
    "name": "ipython",
    "version": 3
   },
   "file_extension": ".py",
   "mimetype": "text/x-python",
   "name": "python",
   "nbconvert_exporter": "python",
   "pygments_lexer": "ipython3",
   "version": "3.11.11"
  }
 },
 "nbformat": 4,
 "nbformat_minor": 5
}
