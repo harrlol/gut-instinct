{
 "cells": [
  {
   "cell_type": "code",
   "execution_count": 206,
   "id": "ddb93f51",
   "metadata": {},
   "outputs": [],
   "source": [
    "import os\n",
    "import pandas as pd\n",
    "import numpy as np\n",
    "import matplotlib.pyplot as plt\n",
    "import os.path as osp\n",
    "import spatialdata as sd\n",
    "from skimage.measure import regionprops\n",
    "import torch\n",
    "from torch.utils.data import Dataset, DataLoader, TensorDataset\n",
    "import timm\n",
    "from timm.data import resolve_data_config\n",
    "from timm.data.transforms_factory import create_transform\n",
    "import torch.optim as optim\n",
    "import torch.nn as nn\n",
    "from geomloss import SamplesLoss\n",
    "import torch.nn.functional as F\n",
    "import datetime\n",
    "\n",
    "from config import DATA_PATH\n",
    "from data import patch_process\n",
    "from models import utils as model_utils\n",
    "from eval import utils as eval_utils\n",
    "\n",
    "# hugginface\n",
    "from dotenv import load_dotenv\n",
    "from huggingface_hub import login\n",
    "load_dotenv(dotenv_path=os.path.expanduser('~/hl/.gutinstinct.env'))\n",
    "api_token = os.getenv(\"API_TOKEN\")\n",
    "login(token=api_token)"
   ]
  },
  {
   "cell_type": "code",
   "execution_count": 205,
   "id": "4e76d450",
   "metadata": {},
   "outputs": [
    {
     "name": "stderr",
     "output_type": "stream",
     "text": [
      "/home/b-evelyntong/miniconda3/envs/gutinstinct/lib/python3.11/site-packages/zarr/creation.py:610: UserWarning: ignoring keyword argument 'read_only'\n",
      "  compressor, fill_value = _kwargs_compat(compressor, fill_value, kwargs)\n"
     ]
    }
   ],
   "source": [
    "zarr_path = osp.join(os.path.expanduser(DATA_PATH), \"UC6_I.zarr/UC6_I.zarr\")\n",
    "sdata = sd.read_zarr(zarr_path)"
   ]
  },
  {
   "cell_type": "code",
   "execution_count": 3,
   "id": "e16770c0",
   "metadata": {},
   "outputs": [],
   "source": [
    "## instantiate a uni model\n",
    "timm_kwargs = {\n",
    "   'img_size': 224,\n",
    "   'patch_size': 32,\n",
    "   'depth': 24,\n",
    "   'num_heads': 24,\n",
    "   'init_values': 1e-5,\n",
    "   'embed_dim': 1536,\n",
    "   'mlp_ratio': 2.66667*2,\n",
    "   'num_classes': 0,\n",
    "   'no_embed_class': True,\n",
    "   'mlp_layer': timm.layers.SwiGLUPacked,\n",
    "   'act_layer': torch.nn.SiLU,\n",
    "   'reg_tokens': 8,\n",
    "   'dynamic_img_size': True\n",
    "  }\n",
    "model_uni = timm.create_model(\"hf-hub:MahmoodLab/UNI2-h\", pretrained=True, **timm_kwargs)\n",
    "model_uni = model_uni.to('cuda')\n",
    "transform = create_transform(**resolve_data_config(model_uni.pretrained_cfg, model=model_uni))\n",
    "# model_uni.eval()"
   ]
  },
  {
   "cell_type": "code",
   "execution_count": null,
   "id": "ccf0865e",
   "metadata": {},
   "outputs": [],
   "source": [
    "timestamp = datetime.datetime.now().strftime(\"%Y%m%d_%H%M%S\")\n",
    "log_file = f\"log_{timestamp}.txt\"\n",
    "patch_id_to_cell_id = patch_process.get_cell_ids_in_patch(sdata, patch_size=200, log_file=log_file)\n",
    "patch_id_to_pil = patch_process.match_patch_id_to_PIL(sdata, patch_id_to_cell_id, patch_size=200, log_file=log_file)\n",
    "patch_id_to_cell_id, patch_id_to_pil, patch_id_to_expr = patch_process.match_patch_id_to_expr(sdata, patch_id_to_cell_id, patch_id_to_pil, log_file=log_file)\n",
    "patch_process.plots_n_visualizations(sdata, patch_id_to_cell_id, patch_id_to_pil, patch_id_to_expr)"
   ]
  },
  {
   "cell_type": "code",
   "execution_count": null,
   "id": "a2810480",
   "metadata": {},
   "outputs": [],
   "source": [
    "# TODO: process patch and expression for downstream model"
   ]
  },
  {
   "cell_type": "code",
   "execution_count": 47,
   "id": "36cc8966",
   "metadata": {},
   "outputs": [],
   "source": [
    "dataset_expression_train = model_utils.get_expression(sdata, dataset_patch_train)\n",
    "dataset_expression_val = model_utils.get_expression(sdata, dataset_patch_val)\n",
    "dataset_expression_test = model_utils.get_expression(sdata, dataset_patch_test)"
   ]
  },
  {
   "cell_type": "code",
   "execution_count": 48,
   "id": "5a2aab02",
   "metadata": {},
   "outputs": [],
   "source": [
    "train_loader = DataLoader(dataset_patch_train, batch_size=32, shuffle=True)\n",
    "val_loader = DataLoader(dataset_patch_val, batch_size=32, shuffle=True)\n",
    "test_loader = DataLoader(dataset_patch_test, batch_size=32, shuffle=True)"
   ]
  },
  {
   "cell_type": "code",
   "execution_count": 49,
   "id": "65253897",
   "metadata": {},
   "outputs": [],
   "source": [
    "train_embeddings, train_cell_ids = model_utils.extract_features(train_loader, model_uni)\n",
    "val_embeddings, val_cell_ids = model_utils.extract_features(val_loader, model_uni)\n",
    "test_embeddings, test_cell_ids = model_utils.extract_features(test_loader, model_uni)"
   ]
  },
  {
   "cell_type": "code",
   "execution_count": 50,
   "id": "3c6350fd",
   "metadata": {},
   "outputs": [],
   "source": [
    "train_dataset = TensorDataset(\n",
    "    torch.tensor(train_embeddings, dtype=torch.float32),\n",
    "    torch.tensor(dataset_expression_train, dtype=torch.float32)\n",
    ")\n",
    "\n",
    "val_dataset = TensorDataset(\n",
    "    torch.tensor(val_embeddings, dtype=torch.float32),\n",
    "    torch.tensor(dataset_expression_val, dtype=torch.float32)\n",
    ")\n",
    "\n",
    "test_dataset = TensorDataset(\n",
    "    torch.tensor(test_embeddings, dtype=torch.float32),\n",
    "    torch.tensor(dataset_expression_test, dtype=torch.float32)\n",
    ")\n",
    "\n",
    "# create dataloader\n",
    "train_loader = DataLoader(train_dataset, batch_size=32, shuffle=False)\n",
    "val_loader = DataLoader(val_dataset, batch_size=32, shuffle=False)\n",
    "test_loader = DataLoader(test_dataset, batch_size=32, shuffle=False)"
   ]
  },
  {
   "cell_type": "code",
   "execution_count": 53,
   "id": "5796da0c",
   "metadata": {},
   "outputs": [
    {
     "name": "stdout",
     "output_type": "stream",
     "text": [
      "Epoch 1, Train Loss: 0.0868, Val Loss: 0.0841, Val R2: -0.0460, Val Spearman: 0.0004\n",
      "Epoch 2, Train Loss: 0.0841, Val Loss: 0.0840, Val R2: -0.0194, Val Spearman: 0.0004\n",
      "Epoch 3, Train Loss: 0.0840, Val Loss: 0.0840, Val R2: -0.0119, Val Spearman: 0.0003\n",
      "Epoch 4, Train Loss: 0.0840, Val Loss: 0.0840, Val R2: -0.0099, Val Spearman: 0.0003\n",
      "Epoch 5, Train Loss: 0.0840, Val Loss: 0.0840, Val R2: -0.0090, Val Spearman: 0.0003\n",
      "Epoch 6, Train Loss: 0.0840, Val Loss: 0.0840, Val R2: -0.0085, Val Spearman: 0.0002\n",
      "Epoch 7, Train Loss: 0.0840, Val Loss: 0.0840, Val R2: -0.0082, Val Spearman: 0.0002\n"
     ]
    },
    {
     "ename": "KeyboardInterrupt",
     "evalue": "",
     "output_type": "error",
     "traceback": [
      "\u001b[31m---------------------------------------------------------------------------\u001b[39m",
      "\u001b[31mKeyboardInterrupt\u001b[39m                         Traceback (most recent call last)",
      "\u001b[36mCell\u001b[39m\u001b[36m \u001b[39m\u001b[32mIn[53]\u001b[39m\u001b[32m, line 38\u001b[39m\n\u001b[32m     36\u001b[39m \u001b[38;5;66;03m# use both point-wise and distributional loss\u001b[39;00m\n\u001b[32m     37\u001b[39m mse_loss = F.mse_loss(y_pred, y_batch)\n\u001b[32m---> \u001b[39m\u001b[32m38\u001b[39m dist_loss = \u001b[43mcriterion\u001b[49m\u001b[43m(\u001b[49m\u001b[43meval_utils\u001b[49m\u001b[43m.\u001b[49m\u001b[43ml1_normalize\u001b[49m\u001b[43m(\u001b[49m\u001b[43my_pred\u001b[49m\u001b[43m)\u001b[49m\u001b[43m,\u001b[49m\u001b[43m \u001b[49m\u001b[43meval_utils\u001b[49m\u001b[43m.\u001b[49m\u001b[43ml1_normalize\u001b[49m\u001b[43m(\u001b[49m\u001b[43my_batch\u001b[49m\u001b[43m)\u001b[49m\u001b[43m)\u001b[49m\n\u001b[32m     39\u001b[39m loss = lmd * mse_loss + (\u001b[32m1\u001b[39m - lmd) * dist_loss\n\u001b[32m     41\u001b[39m loss.backward()\n",
      "\u001b[36mFile \u001b[39m\u001b[32m~/miniconda3/envs/gutinstinct/lib/python3.11/site-packages/torch/nn/modules/module.py:1511\u001b[39m, in \u001b[36mModule._wrapped_call_impl\u001b[39m\u001b[34m(self, *args, **kwargs)\u001b[39m\n\u001b[32m   1509\u001b[39m     \u001b[38;5;28;01mreturn\u001b[39;00m \u001b[38;5;28mself\u001b[39m._compiled_call_impl(*args, **kwargs)  \u001b[38;5;66;03m# type: ignore[misc]\u001b[39;00m\n\u001b[32m   1510\u001b[39m \u001b[38;5;28;01melse\u001b[39;00m:\n\u001b[32m-> \u001b[39m\u001b[32m1511\u001b[39m     \u001b[38;5;28;01mreturn\u001b[39;00m \u001b[38;5;28;43mself\u001b[39;49m\u001b[43m.\u001b[49m\u001b[43m_call_impl\u001b[49m\u001b[43m(\u001b[49m\u001b[43m*\u001b[49m\u001b[43margs\u001b[49m\u001b[43m,\u001b[49m\u001b[43m \u001b[49m\u001b[43m*\u001b[49m\u001b[43m*\u001b[49m\u001b[43mkwargs\u001b[49m\u001b[43m)\u001b[49m\n",
      "\u001b[36mFile \u001b[39m\u001b[32m~/miniconda3/envs/gutinstinct/lib/python3.11/site-packages/torch/nn/modules/module.py:1520\u001b[39m, in \u001b[36mModule._call_impl\u001b[39m\u001b[34m(self, *args, **kwargs)\u001b[39m\n\u001b[32m   1515\u001b[39m \u001b[38;5;66;03m# If we don't have any hooks, we want to skip the rest of the logic in\u001b[39;00m\n\u001b[32m   1516\u001b[39m \u001b[38;5;66;03m# this function, and just call forward.\u001b[39;00m\n\u001b[32m   1517\u001b[39m \u001b[38;5;28;01mif\u001b[39;00m \u001b[38;5;129;01mnot\u001b[39;00m (\u001b[38;5;28mself\u001b[39m._backward_hooks \u001b[38;5;129;01mor\u001b[39;00m \u001b[38;5;28mself\u001b[39m._backward_pre_hooks \u001b[38;5;129;01mor\u001b[39;00m \u001b[38;5;28mself\u001b[39m._forward_hooks \u001b[38;5;129;01mor\u001b[39;00m \u001b[38;5;28mself\u001b[39m._forward_pre_hooks\n\u001b[32m   1518\u001b[39m         \u001b[38;5;129;01mor\u001b[39;00m _global_backward_pre_hooks \u001b[38;5;129;01mor\u001b[39;00m _global_backward_hooks\n\u001b[32m   1519\u001b[39m         \u001b[38;5;129;01mor\u001b[39;00m _global_forward_hooks \u001b[38;5;129;01mor\u001b[39;00m _global_forward_pre_hooks):\n\u001b[32m-> \u001b[39m\u001b[32m1520\u001b[39m     \u001b[38;5;28;01mreturn\u001b[39;00m \u001b[43mforward_call\u001b[49m\u001b[43m(\u001b[49m\u001b[43m*\u001b[49m\u001b[43margs\u001b[49m\u001b[43m,\u001b[49m\u001b[43m \u001b[49m\u001b[43m*\u001b[49m\u001b[43m*\u001b[49m\u001b[43mkwargs\u001b[49m\u001b[43m)\u001b[49m\n\u001b[32m   1522\u001b[39m \u001b[38;5;28;01mtry\u001b[39;00m:\n\u001b[32m   1523\u001b[39m     result = \u001b[38;5;28;01mNone\u001b[39;00m\n",
      "\u001b[36mFile \u001b[39m\u001b[32m~/miniconda3/envs/gutinstinct/lib/python3.11/site-packages/geomloss/samples_loss.py:265\u001b[39m, in \u001b[36mSamplesLoss.forward\u001b[39m\u001b[34m(self, *args)\u001b[39m\n\u001b[32m    262\u001b[39m     α, x, β, y = α.unsqueeze(\u001b[32m0\u001b[39m), x.unsqueeze(\u001b[32m0\u001b[39m), β.unsqueeze(\u001b[32m0\u001b[39m), y.unsqueeze(\u001b[32m0\u001b[39m)\n\u001b[32m    264\u001b[39m \u001b[38;5;66;03m# Run --------------------------------------------------------------------------------\u001b[39;00m\n\u001b[32m--> \u001b[39m\u001b[32m265\u001b[39m values = \u001b[43mroutines\u001b[49m\u001b[43m[\u001b[49m\u001b[38;5;28;43mself\u001b[39;49m\u001b[43m.\u001b[49m\u001b[43mloss\u001b[49m\u001b[43m]\u001b[49m\u001b[43m[\u001b[49m\u001b[43mbackend\u001b[49m\u001b[43m]\u001b[49m\u001b[43m(\u001b[49m\n\u001b[32m    266\u001b[39m \u001b[43m    \u001b[49m\u001b[43mα\u001b[49m\u001b[43m,\u001b[49m\n\u001b[32m    267\u001b[39m \u001b[43m    \u001b[49m\u001b[43mx\u001b[49m\u001b[43m,\u001b[49m\n\u001b[32m    268\u001b[39m \u001b[43m    \u001b[49m\u001b[43mβ\u001b[49m\u001b[43m,\u001b[49m\n\u001b[32m    269\u001b[39m \u001b[43m    \u001b[49m\u001b[43my\u001b[49m\u001b[43m,\u001b[49m\n\u001b[32m    270\u001b[39m \u001b[43m    \u001b[49m\u001b[43mp\u001b[49m\u001b[43m=\u001b[49m\u001b[38;5;28;43mself\u001b[39;49m\u001b[43m.\u001b[49m\u001b[43mp\u001b[49m\u001b[43m,\u001b[49m\n\u001b[32m    271\u001b[39m \u001b[43m    \u001b[49m\u001b[43mblur\u001b[49m\u001b[43m=\u001b[49m\u001b[38;5;28;43mself\u001b[39;49m\u001b[43m.\u001b[49m\u001b[43mblur\u001b[49m\u001b[43m,\u001b[49m\n\u001b[32m    272\u001b[39m \u001b[43m    \u001b[49m\u001b[43mreach\u001b[49m\u001b[43m=\u001b[49m\u001b[38;5;28;43mself\u001b[39;49m\u001b[43m.\u001b[49m\u001b[43mreach\u001b[49m\u001b[43m,\u001b[49m\n\u001b[32m    273\u001b[39m \u001b[43m    \u001b[49m\u001b[43mdiameter\u001b[49m\u001b[43m=\u001b[49m\u001b[38;5;28;43mself\u001b[39;49m\u001b[43m.\u001b[49m\u001b[43mdiameter\u001b[49m\u001b[43m,\u001b[49m\n\u001b[32m    274\u001b[39m \u001b[43m    \u001b[49m\u001b[43mscaling\u001b[49m\u001b[43m=\u001b[49m\u001b[38;5;28;43mself\u001b[39;49m\u001b[43m.\u001b[49m\u001b[43mscaling\u001b[49m\u001b[43m,\u001b[49m\n\u001b[32m    275\u001b[39m \u001b[43m    \u001b[49m\u001b[43mtruncate\u001b[49m\u001b[43m=\u001b[49m\u001b[38;5;28;43mself\u001b[39;49m\u001b[43m.\u001b[49m\u001b[43mtruncate\u001b[49m\u001b[43m,\u001b[49m\n\u001b[32m    276\u001b[39m \u001b[43m    \u001b[49m\u001b[43mcost\u001b[49m\u001b[43m=\u001b[49m\u001b[38;5;28;43mself\u001b[39;49m\u001b[43m.\u001b[49m\u001b[43mcost\u001b[49m\u001b[43m,\u001b[49m\n\u001b[32m    277\u001b[39m \u001b[43m    \u001b[49m\u001b[43mkernel\u001b[49m\u001b[43m=\u001b[49m\u001b[38;5;28;43mself\u001b[39;49m\u001b[43m.\u001b[49m\u001b[43mkernel\u001b[49m\u001b[43m,\u001b[49m\n\u001b[32m    278\u001b[39m \u001b[43m    \u001b[49m\u001b[43mcluster_scale\u001b[49m\u001b[43m=\u001b[49m\u001b[38;5;28;43mself\u001b[39;49m\u001b[43m.\u001b[49m\u001b[43mcluster_scale\u001b[49m\u001b[43m,\u001b[49m\n\u001b[32m    279\u001b[39m \u001b[43m    \u001b[49m\u001b[43mdebias\u001b[49m\u001b[43m=\u001b[49m\u001b[38;5;28;43mself\u001b[39;49m\u001b[43m.\u001b[49m\u001b[43mdebias\u001b[49m\u001b[43m,\u001b[49m\n\u001b[32m    280\u001b[39m \u001b[43m    \u001b[49m\u001b[43mpotentials\u001b[49m\u001b[43m=\u001b[49m\u001b[38;5;28;43mself\u001b[39;49m\u001b[43m.\u001b[49m\u001b[43mpotentials\u001b[49m\u001b[43m,\u001b[49m\n\u001b[32m    281\u001b[39m \u001b[43m    \u001b[49m\u001b[43mlabels_x\u001b[49m\u001b[43m=\u001b[49m\u001b[43ml_x\u001b[49m\u001b[43m,\u001b[49m\n\u001b[32m    282\u001b[39m \u001b[43m    \u001b[49m\u001b[43mlabels_y\u001b[49m\u001b[43m=\u001b[49m\u001b[43ml_y\u001b[49m\u001b[43m,\u001b[49m\n\u001b[32m    283\u001b[39m \u001b[43m    \u001b[49m\u001b[43mverbose\u001b[49m\u001b[43m=\u001b[49m\u001b[38;5;28;43mself\u001b[39;49m\u001b[43m.\u001b[49m\u001b[43mverbose\u001b[49m\u001b[43m,\u001b[49m\n\u001b[32m    284\u001b[39m \u001b[43m\u001b[49m\u001b[43m)\u001b[49m\n\u001b[32m    286\u001b[39m \u001b[38;5;66;03m# Make sure that the output has the correct shape ------------------------------------\u001b[39;00m\n\u001b[32m    287\u001b[39m \u001b[38;5;28;01mif\u001b[39;00m (\n\u001b[32m    288\u001b[39m     \u001b[38;5;28mself\u001b[39m.potentials\n\u001b[32m    289\u001b[39m ):  \u001b[38;5;66;03m# Return some dual potentials (= test functions) sampled on the input measures\u001b[39;00m\n",
      "\u001b[36mFile \u001b[39m\u001b[32m~/miniconda3/envs/gutinstinct/lib/python3.11/site-packages/geomloss/sinkhorn_samples.py:196\u001b[39m, in \u001b[36msinkhorn_tensorized\u001b[39m\u001b[34m(a, x, b, y, p, blur, reach, diameter, scaling, cost, debias, potentials, **kwargs)\u001b[39m\n\u001b[32m    191\u001b[39m diameter, eps, eps_list, rho = scaling_parameters(\n\u001b[32m    192\u001b[39m     x, y, p, blur, reach, diameter, scaling\n\u001b[32m    193\u001b[39m )\n\u001b[32m    195\u001b[39m \u001b[38;5;66;03m# Use an optimal transport solver to retrieve the dual potentials:\u001b[39;00m\n\u001b[32m--> \u001b[39m\u001b[32m196\u001b[39m f_aa, g_bb, g_ab, f_ba = \u001b[43msinkhorn_loop\u001b[49m\u001b[43m(\u001b[49m\n\u001b[32m    197\u001b[39m \u001b[43m    \u001b[49m\u001b[43msoftmin_tensorized\u001b[49m\u001b[43m,\u001b[49m\n\u001b[32m    198\u001b[39m \u001b[43m    \u001b[49m\u001b[43mlog_weights\u001b[49m\u001b[43m(\u001b[49m\u001b[43ma\u001b[49m\u001b[43m)\u001b[49m\u001b[43m,\u001b[49m\n\u001b[32m    199\u001b[39m \u001b[43m    \u001b[49m\u001b[43mlog_weights\u001b[49m\u001b[43m(\u001b[49m\u001b[43mb\u001b[49m\u001b[43m)\u001b[49m\u001b[43m,\u001b[49m\n\u001b[32m    200\u001b[39m \u001b[43m    \u001b[49m\u001b[43mC_xx\u001b[49m\u001b[43m,\u001b[49m\n\u001b[32m    201\u001b[39m \u001b[43m    \u001b[49m\u001b[43mC_yy\u001b[49m\u001b[43m,\u001b[49m\n\u001b[32m    202\u001b[39m \u001b[43m    \u001b[49m\u001b[43mC_xy\u001b[49m\u001b[43m,\u001b[49m\n\u001b[32m    203\u001b[39m \u001b[43m    \u001b[49m\u001b[43mC_yx\u001b[49m\u001b[43m,\u001b[49m\n\u001b[32m    204\u001b[39m \u001b[43m    \u001b[49m\u001b[43meps_list\u001b[49m\u001b[43m,\u001b[49m\n\u001b[32m    205\u001b[39m \u001b[43m    \u001b[49m\u001b[43mrho\u001b[49m\u001b[43m,\u001b[49m\n\u001b[32m    206\u001b[39m \u001b[43m    \u001b[49m\u001b[43mdebias\u001b[49m\u001b[43m=\u001b[49m\u001b[43mdebias\u001b[49m\u001b[43m,\u001b[49m\n\u001b[32m    207\u001b[39m \u001b[43m\u001b[49m\u001b[43m)\u001b[49m\n\u001b[32m    209\u001b[39m \u001b[38;5;66;03m# Optimal transport cost:\u001b[39;00m\n\u001b[32m    210\u001b[39m \u001b[38;5;28;01mreturn\u001b[39;00m sinkhorn_cost(\n\u001b[32m    211\u001b[39m     eps,\n\u001b[32m    212\u001b[39m     rho,\n\u001b[32m   (...)\u001b[39m\u001b[32m    221\u001b[39m     potentials=potentials,\n\u001b[32m    222\u001b[39m )\n",
      "\u001b[36mFile \u001b[39m\u001b[32m~/miniconda3/envs/gutinstinct/lib/python3.11/site-packages/geomloss/sinkhorn_divergence.py:466\u001b[39m, in \u001b[36msinkhorn_loop\u001b[39m\u001b[34m(softmin, a_logs, b_logs, C_xxs, C_yys, C_xys, C_yxs, eps_list, rho, jumps, kernel_truncation, truncate, cost, extrapolate, debias, last_extrapolation)\u001b[39m\n\u001b[32m    464\u001b[39m \u001b[38;5;28;01mif\u001b[39;00m debias:\n\u001b[32m    465\u001b[39m     f_aa = damping * softmin(eps, C_xx, a_log)  \u001b[38;5;66;03m# a -> a\u001b[39;00m\n\u001b[32m--> \u001b[39m\u001b[32m466\u001b[39m     g_bb = damping * \u001b[43msoftmin\u001b[49m\u001b[43m(\u001b[49m\u001b[43meps\u001b[49m\u001b[43m,\u001b[49m\u001b[43m \u001b[49m\u001b[43mC_yy\u001b[49m\u001b[43m,\u001b[49m\u001b[43m \u001b[49m\u001b[43mb_log\u001b[49m\u001b[43m)\u001b[49m  \u001b[38;5;66;03m# a -> a\u001b[39;00m\n\u001b[32m    468\u001b[39m \u001b[38;5;66;03m# Lines 4-5: eps-scaling descent ---------------------------------------------------\u001b[39;00m\n\u001b[32m    469\u001b[39m \u001b[38;5;28;01mfor\u001b[39;00m i, eps \u001b[38;5;129;01min\u001b[39;00m \u001b[38;5;28menumerate\u001b[39m(eps_list):  \u001b[38;5;66;03m# See Fig. 3.25-26 in Jean Feydy's PhD thesis.\u001b[39;00m\n\u001b[32m    470\u001b[39m \n\u001b[32m    471\u001b[39m     \u001b[38;5;66;03m# Line 6: update the damping coefficient ---------------------------------------\u001b[39;00m\n",
      "\u001b[36mFile \u001b[39m\u001b[32m~/miniconda3/envs/gutinstinct/lib/python3.11/site-packages/geomloss/sinkhorn_samples.py:33\u001b[39m, in \u001b[36msoftmin_tensorized\u001b[39m\u001b[34m(eps, C_xy, h_y)\u001b[39m\n\u001b[32m     23\u001b[39m \u001b[38;5;66;03m# ==============================================================================\u001b[39;00m\n\u001b[32m     24\u001b[39m \u001b[38;5;66;03m#                          backend == \"tensorized\"\u001b[39;00m\n\u001b[32m     25\u001b[39m \u001b[38;5;66;03m# ==============================================================================\u001b[39;00m\n\u001b[32m     27\u001b[39m cost_routines = {\n\u001b[32m     28\u001b[39m     \u001b[32m1\u001b[39m: (\u001b[38;5;28;01mlambda\u001b[39;00m x, y: distances(x, y)),\n\u001b[32m     29\u001b[39m     \u001b[32m2\u001b[39m: (\u001b[38;5;28;01mlambda\u001b[39;00m x, y: squared_distances(x, y) / \u001b[32m2\u001b[39m),\n\u001b[32m     30\u001b[39m }\n\u001b[32m---> \u001b[39m\u001b[32m33\u001b[39m \u001b[38;5;28;01mdef\u001b[39;00m\u001b[38;5;250m \u001b[39m\u001b[34msoftmin_tensorized\u001b[39m(eps, C_xy, h_y):\n\u001b[32m     34\u001b[39m \u001b[38;5;250m    \u001b[39m\u001b[33mr\u001b[39m\u001b[33;03m\"\"\"Soft-C-transform, implemented using dense torch Tensors.\u001b[39;00m\n\u001b[32m     35\u001b[39m \n\u001b[32m     36\u001b[39m \u001b[33;03m    This routine implements the (soft-)C-transform\u001b[39;00m\n\u001b[32m   (...)\u001b[39m\u001b[32m     69\u001b[39m \u001b[33;03m            by the points :math:`x_i`.\u001b[39;00m\n\u001b[32m     70\u001b[39m \u001b[33;03m    \"\"\"\u001b[39;00m\n\u001b[32m     71\u001b[39m     B = C_xy.shape[\u001b[32m0\u001b[39m]\n",
      "\u001b[31mKeyboardInterrupt\u001b[39m: "
     ]
    }
   ],
   "source": [
    "# fit fcn model\n",
    "feature_dim = train_embeddings.shape[1]\n",
    "model = nn.Sequential(\n",
    "    nn.Linear(feature_dim, 512),\n",
    "    nn.ReLU(),\n",
    "    # nn.Dropout(0.2),\n",
    "    nn.Linear(512, 256),\n",
    "    nn.ReLU(),\n",
    "    nn.Linear(256, 460)\n",
    ")\n",
    "model.to('cuda')\n",
    "\n",
    "# some setups\n",
    "criterion = SamplesLoss(\"sinkhorn\", p=2, blur=0.05)\n",
    "lmd = 0.7        # controls how much we care about the point-wise loss\n",
    "optimizer = optim.Adam(model.parameters(), lr=1e-5)\n",
    "train_losses = []\n",
    "val_losses = []\n",
    "\n",
    "# es logic\n",
    "es = None\n",
    "best_r2 = float('inf')\n",
    "patience = 5\n",
    "counter = 0\n",
    "\n",
    "for epoch in range(20):\n",
    "    model.train()\n",
    "    running_train_loss = 0.0\n",
    "    for x_batch, y_batch in train_loader:\n",
    "        x_batch, y_batch = x_batch.to('cuda'), y_batch.to('cuda')\n",
    "        optimizer.zero_grad()\n",
    "        y_pred = model(x_batch)\n",
    "        y_pred_dist = eval_utils.l1_normalize(y_pred)\n",
    "        y_true_dist = eval_utils.l1_normalize(y_batch)\n",
    "\n",
    "        # use both point-wise and distributional loss\n",
    "        mse_loss = F.mse_loss(y_pred, y_batch)\n",
    "        dist_loss = criterion(eval_utils.l1_normalize(y_pred), eval_utils.l1_normalize(y_batch))\n",
    "        loss = lmd * mse_loss + (1 - lmd) * dist_loss\n",
    "\n",
    "        loss.backward()\n",
    "        optimizer.step()\n",
    "        running_train_loss += loss.item()\n",
    "\n",
    "    train_losses.append(running_train_loss / len(train_loader))\n",
    "\n",
    "    # validation\n",
    "    model.eval()\n",
    "    running_val_loss = 0.0\n",
    "    y_true_all, y_pred_all = [], []\n",
    "    with torch.no_grad():\n",
    "        for x_val, y_val in val_loader:\n",
    "            x_val, y_val = x_val.to('cuda'), y_val.to('cuda')\n",
    "            y_pred_val = model(x_val)\n",
    "            y_pred_dist_val = eval_utils.l1_normalize(y_pred_val)\n",
    "            y_true_dist_val = eval_utils.l1_normalize(y_val)\n",
    "\n",
    "            # use both point-wise and distributional loss\n",
    "            mse_loss = F.mse_loss(y_pred_val, y_val)\n",
    "            dist_loss = criterion(y_pred_dist_val, y_true_dist_val)\n",
    "            val_loss = lmd * mse_loss + (1 - lmd) * dist_loss\n",
    "\n",
    "            running_val_loss += val_loss.item()\n",
    "\n",
    "            y_true_all.append(y_val.detach().cpu().numpy())\n",
    "            y_pred_all.append(y_pred_val.detach().cpu().numpy())\n",
    "\n",
    "    val_losses.append(running_val_loss / len(val_loader))\n",
    "    val_r2, val_spearman = eval_utils.compute_r2_spearman(y_true_all, y_pred_all)\n",
    "\n",
    "    print(f\"Epoch {epoch+1}, Train Loss: {train_losses[-1]:.4f}, Val Loss: {val_losses[-1]:.4f}, Val R2: {val_r2:.4f}, Val Spearman: {val_spearman:.4f}\")\n",
    "\n",
    "    if es is not None:\n",
    "        if val_r2 < best_r2:\n",
    "            best_r2 = val_r2\n",
    "            counter = 0\n",
    "            best_model_state = model.state_dict()\n",
    "        else:\n",
    "            counter += 1\n",
    "            if counter >= patience:\n",
    "                print(f\"Early stopping at epoch {epoch+1}\")\n",
    "                break"
   ]
  },
  {
   "cell_type": "code",
   "execution_count": 54,
   "id": "ab3ea725",
   "metadata": {},
   "outputs": [
    {
     "data": {
      "image/png": "[encoded data removed]",
      "text/plain": [
       "<Figure size 640x480 with 1 Axes>"
      ]
     },
     "metadata": {},
     "output_type": "display_data"
    }
   ],
   "source": [
    "plt.plot(train_losses, label='Train Loss')\n",
    "plt.plot(val_losses, label='Validation Loss')\n",
    "plt.xlabel('Epoch')\n",
    "plt.ylabel('MSE Loss')\n",
    "plt.legend()\n",
    "plt.title('Training & Validation Loss')\n",
    "plt.show()"
   ]
  },
  {
   "cell_type": "markdown",
   "id": "dfcf0abf",
   "metadata": {},
   "source": [
    "## Observations\n",
    "- using a distributional loss in addition to the mse loss does not help the model learn\n",
    "- train loss plateaus exactly at val loss, the model is not able to overfit\n",
    "- R2 indicates that the model is worse than predicting the average\n",
    "- l1 + only wasserstein saw model consistently minimizing loss, but val metrics still bad"
   ]
  },
  {
   "cell_type": "markdown",
   "id": "cd57cf0b",
   "metadata": {},
   "source": [
    "Questions to ask:\n",
    "what loss to use?\n",
    "is our architecture complete?\n",
    "any addition we should include?\n",
    "\n",
    "\n",
    "Notes:\n",
    "transform from github but didn't use  (create transform function)\n"
   ]
  }
 ],
 "metadata": {
  "kernelspec": {
   "display_name": "gutinstinct",
   "language": "python",
   "name": "python3"
  },
  "language_info": {
   "codemirror_mode": {
    "name": "ipython",
    "version": 3
   },
   "file_extension": ".py",
   "mimetype": "text/x-python",
   "name": "python",
   "nbconvert_exporter": "python",
   "pygments_lexer": "ipython3",
   "version": "3.11.11"
  }
 },
 "nbformat": 4,
 "nbformat_minor": 5
}
