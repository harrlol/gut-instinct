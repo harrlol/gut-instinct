{
 "cells": [
  {
   "cell_type": "code",
   "execution_count": null,
   "id": "c599412f",
   "metadata": {},
   "outputs": [],
   "source": [
    "import os\n",
    "from os import path\n",
    "from config import DATA_PATH\n",
    "import pandas as pd\n",
    "import numpy as np\n",
    "import spatialdata as sd\n",
    "import os.path as osp\n",
    "from skimage.measure import regionprops\n",
    "\n",
    "from data import patch_john, patch_harry"
   ]
  },
  {
   "cell_type": "code",
   "execution_count": null,
   "id": "15ed5934",
   "metadata": {},
   "outputs": [
    {
     "name": "stdout",
     "output_type": "stream",
     "text": [
      "/home/b-evelyntong/hl/ac109_project/raw/UC6_I.zarr/UC6_I.zarr\n"
     ]
    },
    {
     "name": "stderr",
     "output_type": "stream",
     "text": [
      "/home/b-evelyntong/miniconda3/envs/cs109b/lib/python3.10/site-packages/zarr/creation.py:614: UserWarning: ignoring keyword argument 'read_only'\n",
      "  compressor, fill_value = _kwargs_compat(compressor, fill_value, kwargs)\n"
     ]
    }
   ],
   "source": [
    "sdata = sd.read_zarr(osp.join(DATA_PATH, \"UC6_I.zarr/UC6_I.zarr\"))\n"
   ]
  },
  {
   "cell_type": "code",
   "execution_count": null,
   "id": "c43b75ec",
   "metadata": {},
   "outputs": [],
   "source": [
    "image = np.transpose(sdata.images['HE_original'].to_numpy(), (1, 2, 0))\n",
    "mask = sdata.images[\"HE_nuc_original\"].to_numpy()[0, :, :]\n",
    "\n",
    "cell_ids = sdata.tables[\"anucleus\"].obs['cell_id'].values\n",
    "gene_expression_df = sdata.tables[\"anucleus\"].to_df()"
   ]
  },
  {
   "cell_type": "code",
   "execution_count": 23,
   "id": "2aa33bb8",
   "metadata": {},
   "outputs": [
    {
     "name": "stdout",
     "output_type": "stream",
     "text": [
      "Current working directory: /home/b-evelyntong/hl/gut-instinct/notebooks\n"
     ]
    }
   ],
   "source": [
    "# check the current parent directory\n",
    "print(\"Current working directory:\", os.getcwd())"
   ]
  },
  {
   "cell_type": "code",
   "execution_count": 28,
   "id": "52846f5e",
   "metadata": {},
   "outputs": [],
   "source": [
    "# let's first try out processing data\n",
    "# Get cell coordinates\n",
    "regions = [region for region in regionprops(mask) if region.label in cell_ids]\n",
    "cell_coords = {region.label: (int(region.centroid[1]), int(region.centroid[0])) for region in regions}"
   ]
  },
  {
   "cell_type": "code",
   "execution_count": null,
   "id": "0a4c4a12",
   "metadata": {},
   "outputs": [],
   "source": [
    "# caution, this block will run for ever :)\n",
    "output_path = \"../data/processed/patches_and_expressions.h5\"\n",
    "os.makedirs(os.path.dirname(output_path), exist_ok=True)\n",
    "patch_john.generate_and_save_patches(image, sdata, cell_coords, gene_expression_df,\n",
    "                                     output_file=output_path)\n",
    "\n",
    "patches, expressions = patch_john.load_patches_and_expressions(h5_file=output_path)"
   ]
  },
  {
   "cell_type": "code",
   "execution_count": null,
   "id": "81b9000a",
   "metadata": {},
   "outputs": [],
   "source": [
    "dataset_patch_train, dataset_patch_val, dataset_patch_test = patch_harry.get_patches(sdata)\n",
    "dataset_expression_train = patch_harry.get_expression(sdata, dataset_patch_train)\n",
    "dataset_expression_val = patch_harry.get_expression(sdata, dataset_patch_val)\n",
    "dataset_expression_test = patch_harry.get_expression(sdata, dataset_patch_test)"
   ]
  }
 ],
 "metadata": {
  "kernelspec": {
   "display_name": "cs109b",
   "language": "python",
   "name": "python3"
  },
  "language_info": {
   "codemirror_mode": {
    "name": "ipython",
    "version": 3
   },
   "file_extension": ".py",
   "mimetype": "text/x-python",
   "name": "python",
   "nbconvert_exporter": "python",
   "pygments_lexer": "ipython3",
   "version": "3.10.16"
  }
 },
 "nbformat": 4,
 "nbformat_minor": 5
}
