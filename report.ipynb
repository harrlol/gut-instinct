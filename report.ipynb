{
 "cells": [
  {
   "cell_type": "code",
   "execution_count": null,
   "id": "307a49d0",
   "metadata": {},
   "outputs": [],
   "source": [
    "# TODO: load pkl, combine to one big dataset, train-val-test split (stratify by image), try hest or conch if time allows, finish report (merge with previous)\n",
    "# TODO: optional, check colab tutorial works"
   ]
  }
 ],
 "metadata": {
  "kernelspec": {
   "display_name": "gutinstinct",
   "language": "python",
   "name": "python3"
  },
  "language_info": {
   "codemirror_mode": {
    "name": "ipython",
    "version": 3
   },
   "file_extension": ".py",
   "mimetype": "text/x-python",
   "name": "python",
   "nbconvert_exporter": "python",
   "pygments_lexer": "ipython3",
   "version": "3.11.11"
  }
 },
 "nbformat": 4,
 "nbformat_minor": 5
}
